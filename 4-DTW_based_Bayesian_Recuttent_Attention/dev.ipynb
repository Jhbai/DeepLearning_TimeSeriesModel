{
 "cells": [
  {
   "cell_type": "code",
   "execution_count": 1,
   "id": "e3fd47ff-724f-4c40-8b43-0bc6ec96c194",
   "metadata": {},
   "outputs": [],
   "source": [
    "import os\n",
    "import sys\n",
    "import math\n",
    "import torch\n",
    "import numpy as np\n",
    "import torch.nn as nn\n",
    "import torch.optim as optim\n",
    "import matplotlib.pyplot as plt\n",
    "from torch.utils.data import DataLoader, Dataset\n",
    "\n",
    "os.environ[\"KMP_DUPLICATE_LIB_OK\"]=\"TRUE\"\n",
    "sys.dont_write_bytecode = True\n",
    "device = torch.device('cuda' if torch.cuda.is_available() else 'cpu')"
   ]
  },
  {
   "cell_type": "markdown",
   "id": "ba6f1974-7ff0-47a9-9860-e265f37107d4",
   "metadata": {},
   "source": [
    "# (1) 資料準備"
   ]
  },
  {
   "cell_type": "code",
   "execution_count": 2,
   "id": "cb86cad4-4d3e-43c0-aaa4-d98af6c4dc71",
   "metadata": {},
   "outputs": [
    {
     "name": "stdout",
     "output_type": "stream",
     "text": [
      "[Data set] x: (980, 20), y: (980, 1)\n",
      "[torch tensor] torch.Size([980, 20, 1])\n",
      "[torch tensor] torch.Size([980, 1, 1])\n"
     ]
    }
   ],
   "source": [
    "def gen_data(n_size):\n",
    "    return np.sin(np.linspace(0, 10*np.pi, n_size))\n",
    "\n",
    "def cut_win(dataset, winsize):\n",
    "    x, y = list(), list()\n",
    "    for t in range(winsize, len(dataset)):\n",
    "        x += [dataset[t - winsize:t]]\n",
    "        y += [[dataset[t]]]\n",
    "    x, y = np.array(x), np.array(y)\n",
    "    print(\"[Data set] x: {}, y: {}\".format(x.shape, y.shape))\n",
    "    return x, y\n",
    "\n",
    "def to_TimeSerie_torch(arr):\n",
    "    res = torch.tensor(arr).unsqueeze(2).to(torch.float32)\n",
    "    print(\"[torch tensor] {}\".format(res.shape))\n",
    "    return res\n",
    "x, y = cut_win(gen_data(1000), 20)\n",
    "x, y = to_TimeSerie_torch(x), to_TimeSerie_torch(y)"
   ]
  },
  {
   "cell_type": "code",
   "execution_count": 3,
   "id": "4818e8fb-8eab-41b8-b641-06f58d594cb3",
   "metadata": {},
   "outputs": [],
   "source": [
    "class MyDataset(Dataset):\n",
    "    def __init__(self, data, targ):\n",
    "        \"\"\"\n",
    "        初始化資料\n",
    "        :param data: 特徵數據，例如 numpy array 或 list\n",
    "        :param labels: 對應的預測數據\n",
    "        \"\"\"\n",
    "        self.data = data\n",
    "        self.targ = targ\n",
    "\n",
    "    def __len__(self):\n",
    "        \"\"\"返回資料集的樣本數量\"\"\"\n",
    "        return len(self.data)\n",
    "\n",
    "    def __getitem__(self, idx):\n",
    "        \"\"\"\n",
    "        根據索引返回數據與標籤\n",
    "        :param idx: 索引\n",
    "        :return: 單個數據與其標籤\n",
    "        \"\"\"\n",
    "        x = self.data[idx]\n",
    "        y = self.targ[idx]\n",
    "        return x, y\n",
    "# 使用方法\n",
    "# dataset = MyDataset(data, labels)\n",
    "# dataloader = DataLoader(dataset, batch_size=2, shuffle=True)\n",
    "x, y = x.to(device), y.to(device)\n",
    "dataloader = DataLoader(MyDataset(x, y), batch_size=32, shuffle=True)"
   ]
  },
  {
   "cell_type": "markdown",
   "id": "ca43eff9-a109-4efa-9537-24889e8cbff7",
   "metadata": {},
   "source": [
    "# (2) 模型建構"
   ]
  },
  {
   "cell_type": "code",
   "execution_count": 4,
   "id": "3bdd2fde-5163-46a1-848a-11c36ab18220",
   "metadata": {},
   "outputs": [],
   "source": [
    "from Bayesian_Attention_Reconstruction import Bayesian_Attention_Reconstruction_Model, criterion\n",
    "history = list()"
   ]
  },
  {
   "cell_type": "markdown",
   "id": "93170f90-3de6-4c0b-b5b3-553ac45ae4ac",
   "metadata": {},
   "source": [
    "# (3) 訓練"
   ]
  },
  {
   "cell_type": "code",
   "execution_count": 5,
   "id": "88161e04-3af3-4475-96ff-b5ac1186a6b9",
   "metadata": {},
   "outputs": [
    {
     "name": "stdout",
     "output_type": "stream",
     "text": [
      "Epoch 36, Loss -752.0390853881836\r"
     ]
    }
   ],
   "source": [
    "epoch = 0\n",
    "model = Bayesian_Attention_Reconstruction_Model(n_seq = 20, n_hid = 16, n_dim = 1).to(device)\n",
    "optimizer = optim.AdamW(model.parameters(), lr=1e-3, weight_decay=1e-2)\n",
    "while True:\n",
    "    try:\n",
    "        epoch += 1\n",
    "        loss_val = 0.0\n",
    "        for batch_idx, (x_batch, y_batch) in enumerate(dataloader):\n",
    "            y_hat, mu, logvar = model(x_batch)\n",
    "            loss = criterion(y_hat.shape[0], y_hat, x_batch, mu, logvar)\n",
    "            loss_val += loss.item()\n",
    "            optimizer.zero_grad()\n",
    "            loss.backward()\n",
    "            optimizer.step()\n",
    "        history += [loss_val]\n",
    "        print(f\"Epoch {epoch}, Loss {loss_val}\", end = \"\\r\")\n",
    "    except:\n",
    "        break"
   ]
  },
  {
   "cell_type": "code",
   "execution_count": 10,
   "id": "3311e0ea",
   "metadata": {},
   "outputs": [
    {
     "data": {
      "image/png": "[encoded data removed]",
      "text/plain": [
       "<Figure size 400x300 with 1 Axes>"
      ]
     },
     "metadata": {},
     "output_type": "display_data"
    },
    {
     "data": {
      "application/vnd.jupyter.widget-view+json": {
       "model_id": "c23907c537e447f4879188c043c01722",
       "version_major": 2,
       "version_minor": 0
      },
      "text/plain": [
       "interactive(children=(Dropdown(description='choice', options=(0, 1, 2, 3, 4, 5, 6, 7, 8, 9, 10, 11, 12, 13, 14…"
      ]
     },
     "metadata": {},
     "output_type": "display_data"
    },
    {
     "data": {
      "text/plain": [
       "<function __main__.plotting(choice)>"
      ]
     },
     "execution_count": 10,
     "metadata": {},
     "output_type": "execute_result"
    }
   ],
   "source": [
    "import matplotlib.pyplot as plt\n",
    "fig, ax = plt.subplots(1, 1, figsize = (4, 3))\n",
    "ax.plot(history, color = \"red\")\n",
    "ax.grid(color = \"gray\", linestyle = \"--\", alpha = .4)\n",
    "plt.show()\n",
    "\n",
    "import ipywidgets as widgets\n",
    "from ipywidgets import interact\n",
    "model.eval()\n",
    "with torch.no_grad():\n",
    "    for batch_idx, (x_batch, y_batch) in enumerate(dataloader):\n",
    "        y_hat, _, _ = model(x_batch)\n",
    "\n",
    "def plotting(choice):\n",
    "    fig, ax = plt.subplots(1, 1, figsize = (4, 3))\n",
    "    ax.plot(x_batch[choice].detach().cpu().reshape(-1, ), color = \"black\")\n",
    "    ax.plot(y_hat[choice].detach().cpu().reshape(-1, ), color = \"blue\", linestyle = '--')\n",
    "    ax.grid(color = \"gray\", linestyle = \"--\", alpha = .4)\n",
    "    plt.show()\n",
    "interact(\n",
    "    plotting,\n",
    "    choice=[i for i in range(len(y_batch))]\n",
    "    )"
   ]
  }
 ],
 "metadata": {
  "kernelspec": {
   "display_name": "Python 3 (ipykernel)",
   "language": "python",
   "name": "python3"
  },
  "language_info": {
   "codemirror_mode": {
    "name": "ipython",
    "version": 3
   },
   "file_extension": ".py",
   "mimetype": "text/x-python",
   "name": "python",
   "nbconvert_exporter": "python",
   "pygments_lexer": "ipython3",
   "version": "3.11.5"
  }
 },
 "nbformat": 4,
 "nbformat_minor": 5
}
